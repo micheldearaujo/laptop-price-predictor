{
 "cells": [
  {
   "cell_type": "markdown",
   "metadata": {
    "application/vnd.databricks.v1+cell": {
     "cellMetadata": {},
     "inputWidgets": {},
     "nuid": "da0154de-f19e-409d-b396-1d3b342cc057",
     "showTitle": false,
     "title": ""
    }
   },
   "source": [
    "## Exploratory Data Analysis on the Laptop Prices Dataset"
   ]
  },
  {
   "cell_type": "markdown",
   "metadata": {
    "application/vnd.databricks.v1+cell": {
     "cellMetadata": {},
     "inputWidgets": {},
     "nuid": "a517f66d-828f-4e89-954b-fdad9d45f014",
     "showTitle": false,
     "title": ""
    }
   },
   "source": [
    "### 1.0 Importando as libs"
   ]
  },
  {
   "cell_type": "code",
   "execution_count": 0,
   "metadata": {
    "application/vnd.databricks.v1+cell": {
     "cellMetadata": {},
     "inputWidgets": {},
     "nuid": "c3bbcba5-0400-4cea-ba16-335805de4a30",
     "showTitle": false,
     "title": ""
    }
   },
   "outputs": [],
   "source": [
    "import sys\n",
    "import os\n",
    "\n",
    "import numpy as np\n",
    "import pandas as pd\n",
    "import seaborn as sns\n",
    "import matplotlib.pyplot as plt"
   ]
  },
  {
   "cell_type": "markdown",
   "metadata": {
    "application/vnd.databricks.v1+cell": {
     "cellMetadata": {},
     "inputWidgets": {},
     "nuid": "2b341562-2ce7-4628-a58d-66c2ce22c42c",
     "showTitle": false,
     "title": ""
    }
   },
   "source": [
    "### 2.0 Carregar o dataset"
   ]
  },
  {
   "cell_type": "code",
   "execution_count": 0,
   "metadata": {
    "application/vnd.databricks.v1+cell": {
     "cellMetadata": {},
     "inputWidgets": {},
     "nuid": "e1f183ad-153a-4198-bba4-2ae9725cdea3",
     "showTitle": false,
     "title": ""
    }
   },
   "outputs": [],
   "source": [
    "prices_df = pd.read_csv(\"../data/processed/clean_prices.csv\", sep=',', encoding='latin1')\n",
    "print(prices_df.head())"
   ]
  },
  {
   "cell_type": "markdown",
   "metadata": {
    "application/vnd.databricks.v1+cell": {
     "cellMetadata": {},
     "inputWidgets": {},
     "nuid": "24e29248-32ca-42b5-a265-4ead8cf89440",
     "showTitle": false,
     "title": ""
    }
   },
   "source": [
    "### 3.0 Analisando as correlações lineares\n",
    "Vamos manter apenas o top 20 variáveis mais correlacionadas"
   ]
  },
  {
   "cell_type": "code",
   "execution_count": 0,
   "metadata": {
    "application/vnd.databricks.v1+cell": {
     "cellMetadata": {},
     "inputWidgets": {},
     "nuid": "bcc73058-de28-4c78-87fc-c47856d501ef",
     "showTitle": false,
     "title": ""
    }
   },
   "outputs": [],
   "source": [
    "corr_df = prices_df.corr()"
   ]
  },
  {
   "cell_type": "code",
   "execution_count": 0,
   "metadata": {
    "application/vnd.databricks.v1+cell": {
     "cellMetadata": {},
     "inputWidgets": {},
     "nuid": "796c1b46-8560-4efe-8d4e-558d580cb4d2",
     "showTitle": false,
     "title": ""
    }
   },
   "outputs": [],
   "source": [
    "fig, axis = plt.subplots(figsize=(18, 12))\n",
    "sns.heatmap(\n",
    "    corr_df,\n",
    "    annot=True,\n",
    "    cmap=\"YlGnBu\"\n",
    ")\n",
    "plt.show()"
   ]
  },
  {
   "cell_type": "markdown",
   "metadata": {
    "application/vnd.databricks.v1+cell": {
     "cellMetadata": {},
     "inputWidgets": {},
     "nuid": "a1281851-2d01-4e91-9663-19e2c3fb0610",
     "showTitle": false,
     "title": ""
    }
   },
   "source": [
    "#### 3.1 Definindo um limite mínimo"
   ]
  },
  {
   "cell_type": "code",
   "execution_count": 0,
   "metadata": {
    "application/vnd.databricks.v1+cell": {
     "cellMetadata": {},
     "inputWidgets": {},
     "nuid": "585232f0-33c1-4edb-8bb3-28f373979520",
     "showTitle": false,
     "title": ""
    }
   },
   "outputs": [],
   "source": [
    "# Pegando apenas a correlação com o target\n",
    "target_correlations_df = corr_df[\"Price_euros\"].apply(abs).sort_values()"
   ]
  },
  {
   "cell_type": "code",
   "execution_count": 0,
   "metadata": {
    "application/vnd.databricks.v1+cell": {
     "cellMetadata": {},
     "inputWidgets": {},
     "nuid": "2f0e052f-6172-4824-9574-9ac8a9b1f22a",
     "showTitle": false,
     "title": ""
    }
   },
   "outputs": [],
   "source": [
    "target_correlations_df"
   ]
  },
  {
   "cell_type": "code",
   "execution_count": 0,
   "metadata": {
    "application/vnd.databricks.v1+cell": {
     "cellMetadata": {},
     "inputWidgets": {},
     "nuid": "a8a9b87d-c5e0-4db5-b092-0948b6cda7aa",
     "showTitle": false,
     "title": ""
    }
   },
   "outputs": [],
   "source": [
    "top_features = list(target_correlations_df[-21:].index)"
   ]
  },
  {
   "cell_type": "code",
   "execution_count": 0,
   "metadata": {
    "application/vnd.databricks.v1+cell": {
     "cellMetadata": {},
     "inputWidgets": {},
     "nuid": "f7c220eb-3979-45ae-b763-52dd7c7b7987",
     "showTitle": false,
     "title": ""
    }
   },
   "outputs": [],
   "source": [
    "top_features"
   ]
  },
  {
   "cell_type": "code",
   "execution_count": 0,
   "metadata": {
    "application/vnd.databricks.v1+cell": {
     "cellMetadata": {},
     "inputWidgets": {},
     "nuid": "3a77d572-94b2-44ab-80ad-bfc5b70acf14",
     "showTitle": false,
     "title": ""
    }
   },
   "outputs": [],
   "source": [
    "fig, axis = plt.subplots(figsize=(18, 12))\n",
    "sns.heatmap(\n",
    "    prices_df[top_features].corr(),\n",
    "    annot=True,\n",
    "    cmap=\"YlGnBu\"\n",
    ")\n",
    "plt.show()"
   ]
  },
  {
   "cell_type": "code",
   "execution_count": 0,
   "metadata": {
    "application/vnd.databricks.v1+cell": {
     "cellMetadata": {},
     "inputWidgets": {},
     "nuid": "8d2b76a3-66a8-44d4-8ecf-4c8f59614ce4",
     "showTitle": false,
     "title": ""
    }
   },
   "outputs": [],
   "source": []
  }
 ],
 "metadata": {
  "application/vnd.databricks.v1+notebook": {
   "dashboards": [],
   "language": "python",
   "notebookMetadata": {},
   "notebookName": "2-feature_selection",
   "widgets": {}
  },
  "kernelspec": {
   "display_name": ".laptop_price",
   "language": "python",
   "name": "python3"
  },
  "language_info": {
   "codemirror_mode": {
    "name": "ipython",
    "version": 3
   },
   "file_extension": ".py",
   "mimetype": "text/x-python",
   "name": "python",
   "nbconvert_exporter": "python",
   "pygments_lexer": "ipython3",
   "version": "3.9.7"
  },
  "orig_nbformat": 4
 },
 "nbformat": 4,
 "nbformat_minor": 0
}
