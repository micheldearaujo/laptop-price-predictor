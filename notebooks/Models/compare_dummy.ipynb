{
 "cells": [
  {
   "cell_type": "markdown",
   "metadata": {
    "application/vnd.databricks.v1+cell": {
     "cellMetadata": {
      "byteLimit": 2048000,
      "rowLimit": 10000
     },
     "inputWidgets": {},
     "nuid": "e6ee00c6-0f08-4245-8d24-0f454fdd9216",
     "showTitle": false,
     "title": ""
    }
   },
   "source": [
    "## Modelo Baseline"
   ]
  },
  {
   "cell_type": "code",
   "execution_count": 0,
   "metadata": {
    "application/vnd.databricks.v1+cell": {
     "cellMetadata": {
      "byteLimit": 2048000,
      "rowLimit": 10000
     },
     "inputWidgets": {},
     "nuid": "3d4cad05-20ef-45db-a823-4998d03d9cb1",
     "showTitle": false,
     "title": ""
    }
   },
   "outputs": [],
   "source": [
    "import sys\n",
    "import os\n",
    "\n",
    "sys.path.append(os.path.abspath(\"../\"))\n",
    "\n",
    "import numpy as np\n",
    "import pandas as pd\n",
    "import seaborn as sns\n",
    "import matplotlib.pyplot as plt\n",
    "\n",
    "from xgboost import XGBRegressor\n",
    "import xgboost as xgb\n",
    "from sklearn.preprocessing import StandardScaler\n",
    "from sklearn.model_selection import train_test_split\n",
    "\n",
    "from sklearn.metrics import mean_absolute_error, mean_squared_error, mean_absolute_percentage_error\n",
    "from sklearn.model_selection import GridSearchCV\n",
    "from src import config\n",
    "import mlflow"
   ]
  },
  {
   "cell_type": "code",
   "execution_count": 0,
   "metadata": {
    "application/vnd.databricks.v1+cell": {
     "cellMetadata": {
      "byteLimit": 2048000,
      "rowLimit": 10000
     },
     "inputWidgets": {},
     "nuid": "08cb8e7c-eed6-4274-b060-cd9aacf48a03",
     "showTitle": false,
     "title": ""
    }
   },
   "outputs": [],
   "source": [
    "prices_df = spark.sql(\"select * from lp_processed_modeling\").toPandas()\n",
    "string_columns = prices_df.select_dtypes(include='object').columns\n",
    "\n",
    "for column in string_columns:\n",
    "    prices_df[column] = prices_df[column].astype(\"category\")\n",
    "\n",
    "prices_enc = spark.sql(\"select * from lp_processed_modeling_dummy\").toPandas()"
   ]
  },
  {
   "cell_type": "code",
   "execution_count": 0,
   "metadata": {
    "application/vnd.databricks.v1+cell": {
     "cellMetadata": {
      "byteLimit": 2048000,
      "rowLimit": 10000
     },
     "inputWidgets": {},
     "nuid": "df49d354-08ce-4bf0-8a69-502f0376229b",
     "showTitle": false,
     "title": ""
    }
   },
   "outputs": [],
   "source": [
    "X, y = prices_df.drop(config.MODEL_CONFIG[\"TARGET\"], axis=1), prices_df[config.MODEL_CONFIG[\"TARGET\"]]\n",
    "X_train, X_test, y_train, y_test = train_test_split(X, y, test_size=config.MODEL_CONFIG[\"TEST_SIZE\"])\n",
    "\n",
    "X_enc, y_enc = prices_enc.drop(config.MODEL_CONFIG[\"TARGET\"], axis=1), prices_enc[config.MODEL_CONFIG[\"TARGET\"]]\n",
    "X_train_enc, X_test_enc, y_train_enc, y_test_enc = train_test_split(X_enc, y_enc, test_size=config.MODEL_CONFIG[\"TEST_SIZE\"])"
   ]
  },
  {
   "cell_type": "code",
   "execution_count": 0,
   "metadata": {
    "application/vnd.databricks.v1+cell": {
     "cellMetadata": {
      "byteLimit": 2048000,
      "rowLimit": 10000
     },
     "inputWidgets": {},
     "nuid": "215a7f15-5886-4591-bede-78b2850e82b9",
     "showTitle": false,
     "title": ""
    }
   },
   "outputs": [],
   "source": [
    "def test_model_without_encoding(prices_df):\n",
    "\n",
    "    X, y = prices_df.drop(config.MODEL_CONFIG[\"TARGET\"], axis=1), prices_df[config.MODEL_CONFIG[\"TARGET\"]]\n",
    "    X_train, X_test, y_train, y_test = train_test_split(X, y, test_size=config.MODEL_CONFIG[\"TEST_SIZE\"])\n",
    "\n",
    "    with mlflow.start_run(run_name=\"xgb_categorical\") as run:\n",
    "        model = xgb.XGBRegressor(\n",
    "            tree_method=\"hist\", enable_categorical=True, max_cat_to_onehot=20, device=\"cpu\"\n",
    "        )\n",
    "\n",
    "        model.fit(X_train, y_train, eval_set=[(X_train, y_train)])\n",
    "\n",
    "        predictions = model.predict(X_test)\n",
    "\n",
    "        mae = mean_absolute_error(y_test, predictions)\n",
    "        mape = mean_absolute_percentage_error(y_test, predictions)\n",
    "        rmse = np.sqrt(mean_squared_error(y_test, predictions))\n",
    "\n",
    "        mlflow.log_metrics({\n",
    "            \"MAE\": mae,\n",
    "            \"MAPE\": mape,\n",
    "            \"RMSE\": rmse\n",
    "        })\n",
    "\n",
    "        mlflow.log_params(model.get_params())\n",
    "\n",
    "        \n",
    "        fig1, axs = plt.subplots(1, 2, figsize=(16, 6))\n",
    "\n",
    "        # plot diagonal line\n",
    "        axs[0].axline((1,1), slope=1, color='r', ls='--')\n",
    "        # Scatter predictions vs true\n",
    "        axs[0].scatter(x=y_test, y=predictions)\n",
    "        axs[0].set_title(f\"Scatter plot predictions evaluation\\nMAE: {round(mae, 2)} | MAPE: {round(mape, 4)*100}%\")\n",
    "        axs[0].set_xlabel(\"Actual Price\")\n",
    "        axs[0].set_ylabel(\"Predicted price\")\n",
    "        axs[0].grid()\n",
    "\n",
    "        # Plot the Residuals\n",
    "        residuals = y_test - predictions\n",
    "        axs[1].hist(residuals, density=True)\n",
    "        axs[1].set_title(\"Model Resid\")\n",
    "        axs[1].set_xlabel(\"Residual\")\n",
    "        axs[1].set_ylabel(\"Frequency\")\n",
    "        sns.kdeplot(residuals, label='Residual')\n",
    "        s = np.random.normal(0, np.std(residuals), 10000)\n",
    "        sns.kdeplot(s, label='Normal')\n",
    "\n",
    "        axs[1].grid()\n",
    "        plt.legend()\n",
    "        mlflow.log_figure(fig1, \"metrics_residual.png\")\n",
    "        plt.show()\n",
    "\n",
    "        fig2, axs2 = plt.subplots()\n",
    "        xgb.plot_importance(model, ax=axs2)\n",
    "        mlflow.log_figure(fig2, \"feature_importance.png\")"
   ]
  },
  {
   "cell_type": "code",
   "execution_count": 0,
   "metadata": {
    "application/vnd.databricks.v1+cell": {
     "cellMetadata": {
      "byteLimit": 2048000,
      "rowLimit": 10000
     },
     "inputWidgets": {},
     "nuid": "880c281b-24fd-4e88-88bf-583e6c6108dd",
     "showTitle": false,
     "title": ""
    }
   },
   "outputs": [],
   "source": [
    "def test_model_with_encoding(prices_enc):\n",
    "\n",
    "    X, y = prices_enc.drop(config.MODEL_CONFIG[\"TARGET\"], axis=1), prices_enc[config.MODEL_CONFIG[\"TARGET\"]]\n",
    "    X_train, X_test, y_train, y_test = train_test_split(X, y, test_size=config.MODEL_CONFIG[\"TEST_SIZE\"])\n",
    "\n",
    "    with mlflow.start_run(run_name=\"xgb_encoded\") as run:\n",
    "        model = xgb.XGBRegressor(\n",
    "            tree_method=\"hist\", device=\"cpu\", eval_metric=[\"logloss\", \"mae\"]\n",
    "        )\n",
    "\n",
    "        model.fit(X_train, y_train, eval_set=[(X_train, y_train)])\n",
    "        predictions = model.predict(X_test)\n",
    "\n",
    "        mae = mean_absolute_error(y_test, predictions)\n",
    "        mape = mean_absolute_percentage_error(y_test, predictions)\n",
    "        rmse = np.sqrt(mean_squared_error(y_test, predictions))\n",
    "\n",
    "        mlflow.log_metrics({\n",
    "            \"MAE\": mae,\n",
    "            \"MAPE\": mape,\n",
    "            \"RMSE\": rmse\n",
    "        })\n",
    "\n",
    "        mlflow.log_params(model.get_params())\n",
    "\n",
    "        \n",
    "        fig1, axs = plt.subplots(1, 2, figsize=(16, 6))\n",
    "\n",
    "        # plot diagonal line\n",
    "        axs[0].axline((1,1), slope=1, color='r', ls='--')\n",
    "        # Scatter predictions vs true\n",
    "        axs[0].scatter(x=y_test_enc, y=predictions)\n",
    "        axs[0].set_title(f\"Scatter plot predictions evaluation\\nMAE: {round(mae, 2)} | MAPE: {round(mape, 4)*100}%\\nEncoded\")\n",
    "        axs[0].set_xlabel(\"Actual Price\")\n",
    "        axs[0].set_ylabel(\"Predicted price\")\n",
    "        axs[0].grid()\n",
    "\n",
    "        # Plot the Residuals\n",
    "        residuals_enc = y_test_enc - predictions\n",
    "        axs[1].hist(residuals_enc, density=True)\n",
    "        axs[1].set_title(\"Model Resid\\nEncoded\")\n",
    "        axs[1].set_xlabel(\"Residual\")\n",
    "        axs[1].set_ylabel(\"Frequency\")\n",
    "        sns.kdeplot(residuals_enc, label='Residual')\n",
    "        s = np.random.normal(0, np.std(residuals_enc), 10000)\n",
    "        sns.kdeplot(s, label='Normal')\n",
    "\n",
    "        axs[1].grid()\n",
    "        plt.legend()\n",
    "\n",
    "        mlflow.log_figure(fig1, \"metrics_residual_encoded.png\")\n",
    "        plt.show()\n",
    "\n",
    "        fig2, axs2 = plt.subplots()\n",
    "        xgb.plot_importance(model, ax=axs2)\n",
    "        mlflow.log_figure(fig2, \"feature_importance_encoded.png\")"
   ]
  },
  {
   "cell_type": "code",
   "execution_count": 0,
   "metadata": {
    "application/vnd.databricks.v1+cell": {
     "cellMetadata": {
      "byteLimit": 2048000,
      "rowLimit": 10000
     },
     "inputWidgets": {},
     "nuid": "7e9b6ee6-b4f2-444f-9ca6-281f35360f4b",
     "showTitle": false,
     "title": ""
    }
   },
   "outputs": [],
   "source": [
    "test_model_without_encoding(prices_df)\n",
    "test_model_with_encoding(prices_enc)"
   ]
  },
  {
   "cell_type": "markdown",
   "metadata": {
    "application/vnd.databricks.v1+cell": {
     "cellMetadata": {},
     "inputWidgets": {},
     "nuid": "f4f10cc4-7d70-420a-8b7b-bb308287bc30",
     "showTitle": false,
     "title": ""
    }
   },
   "source": [
    "### 3.3 Perform Hyperparameter Optimization"
   ]
  },
  {
   "cell_type": "code",
   "execution_count": 0,
   "metadata": {
    "application/vnd.databricks.v1+cell": {
     "cellMetadata": {
      "byteLimit": 2048000,
      "rowLimit": 10000
     },
     "inputWidgets": {},
     "nuid": "af353f50-2f1f-4137-96d2-e2508e95232f",
     "showTitle": false,
     "title": ""
    }
   },
   "outputs": [],
   "source": [
    "param_grid = {\n",
    "        'min_child_weight': [10, 12, 15, 20, None],\n",
    "        'gamma': [0.05, 0.1, 0.25, 0.5, None],\n",
    "        'subsample': [0.6, 0.8, 1.0, None],\n",
    "        'colsample_bytree': [0.8, 1.0, None],\n",
    "        'max_depth': [7, 10, 13, None],\n",
    "        'learning_rate': [0.01, 0.05, 0.1, 0.2, None],\n",
    "        'n_estimators': [40, 100, 200, None],\n",
    "        'reg_lambda': [1, 5, 10, None]\n",
    "}"
   ]
  },
  {
   "cell_type": "code",
   "execution_count": 0,
   "metadata": {
    "application/vnd.databricks.v1+cell": {
     "cellMetadata": {
      "byteLimit": 2048000,
      "rowLimit": 10000
     },
     "inputWidgets": {},
     "nuid": "30ab091c-3e05-4629-bc78-dff3c9faeee1",
     "showTitle": false,
     "title": ""
    }
   },
   "outputs": [],
   "source": [
    "gridsearcher = GridSearchCV(\n",
    "    estimator=XGBRegressor(tree_method=\"hist\", enable_categorical=True, max_cat_to_onehot=20, device=\"cpu\"),\n",
    "    param_grid = param_grid,\n",
    "    scoring='neg_mean_squared_error',\n",
    "    cv=4,\n",
    "    verbose=2,\n",
    "    n_jobs=-1\n",
    ")\n",
    "\n",
    "gridsearcher = gridsearcher.fit(X_train, y_train)"
   ]
  },
  {
   "cell_type": "code",
   "execution_count": 0,
   "metadata": {
    "application/vnd.databricks.v1+cell": {
     "cellMetadata": {
      "byteLimit": 2048000,
      "rowLimit": 10000
     },
     "inputWidgets": {},
     "nuid": "a11e1a68-0627-4167-9e93-acb95c2e4cff",
     "showTitle": false,
     "title": ""
    }
   },
   "outputs": [],
   "source": [
    "print('\\n Best hyperparameters:')\n",
    "print(gridsearcher.best_params_)\n",
    "results = pd.DataFrame(gridsearcher.cv_results_)"
   ]
  },
  {
   "cell_type": "code",
   "execution_count": 0,
   "metadata": {
    "application/vnd.databricks.v1+cell": {
     "cellMetadata": {
      "byteLimit": 2048000,
      "rowLimit": 10000
     },
     "inputWidgets": {},
     "nuid": "82cbd996-ed93-425b-a411-41b55bca3b99",
     "showTitle": false,
     "title": ""
    }
   },
   "outputs": [],
   "source": [
    "results.head()"
   ]
  },
  {
   "cell_type": "code",
   "execution_count": 0,
   "metadata": {
    "application/vnd.databricks.v1+cell": {
     "cellMetadata": {
      "byteLimit": 2048000,
      "rowLimit": 10000
     },
     "inputWidgets": {},
     "nuid": "d0f80808-5404-4028-b77e-ea4daef3507b",
     "showTitle": false,
     "title": ""
    }
   },
   "outputs": [],
   "source": [
    "print('\\n Best estimator:')\n",
    "print(gridsearcher.best_estimator_)"
   ]
  },
  {
   "cell_type": "code",
   "execution_count": 0,
   "metadata": {
    "application/vnd.databricks.v1+cell": {
     "cellMetadata": {
      "byteLimit": 2048000,
      "rowLimit": 10000
     },
     "inputWidgets": {},
     "nuid": "b3194eeb-5b1b-487b-8367-3cadb4606132",
     "showTitle": false,
     "title": ""
    }
   },
   "outputs": [],
   "source": [
    "model = XGBRegressor(**{'colsample_bytree': 1.0, 'gamma': 0.1, 'learning_rate': 0.05, 'max_depth': 10, 'min_child_weight': 10, 'n_estimators': 200, 'subsample': 1.0}, eval_metric=[\"mae\", \"logloss\"])\n",
    "model.fit(\n",
    "    X_train,\n",
    "    y_train,\n",
    "    eval_set=[(X_train, y_train), (X_val, y_val)]\n",
    ")"
   ]
  },
  {
   "cell_type": "code",
   "execution_count": 0,
   "metadata": {
    "application/vnd.databricks.v1+cell": {
     "cellMetadata": {
      "byteLimit": 2048000,
      "rowLimit": 10000
     },
     "inputWidgets": {},
     "nuid": "0f1d6e5a-4902-40c5-85bd-3ea9f87d0f27",
     "showTitle": false,
     "title": ""
    }
   },
   "outputs": [],
   "source": [
    "# predict on the validation set\n",
    "predictions = model.predict(X_test)\n",
    "mae = mean_absolute_error(y_test, predictions)\n",
    "mape = mean_absolute_percentage_error(y_test, predictions)\n",
    "model.score(X_test, y_test)"
   ]
  },
  {
   "cell_type": "code",
   "execution_count": 0,
   "metadata": {
    "application/vnd.databricks.v1+cell": {
     "cellMetadata": {
      "byteLimit": 2048000,
      "rowLimit": 10000
     },
     "inputWidgets": {},
     "nuid": "1197fd7a-fc9f-44c1-97e6-9909fd1a0fbb",
     "showTitle": false,
     "title": ""
    }
   },
   "outputs": [],
   "source": [
    "fig, axs = plt.subplots(1, 2, figsize=(16, 6))\n",
    "\n",
    "# plot diagonal line\n",
    "axs[0].axline((1,1), slope=1, color='r', ls='--')\n",
    "# Scatter predictions vs true\n",
    "axs[0].scatter(x=y_test, y=predictions)\n",
    "axs[0].set_title(f\"Scatter plot predictions evaluation\\nMAE: {round(mae, 2)} | MAPE: {round(mape, 4)*100}%\")\n",
    "axs[0].set_xlabel(\"Actual Price\")\n",
    "axs[0].set_ylabel(\"Predicted price\")\n",
    "axs[0].grid()\n",
    "\n",
    "# Plot the Residuals\n",
    "residuals = y_test - predictions\n",
    "axs[1].hist(residuals, density=True)\n",
    "axs[1].set_title(\"Model Resid\")\n",
    "axs[1].set_xlabel(\"Residual\")\n",
    "axs[1].set_ylabel(\"Frequency\")\n",
    "sns.kdeplot(residuals, label='Residual')\n",
    "s = np.random.normal(0, np.std(residuals), 10000)\n",
    "sns.kdeplot(s, label='Normal')\n",
    "\n",
    "axs[1].grid()\n",
    "plt.legend()\n",
    "plt.show()"
   ]
  },
  {
   "cell_type": "code",
   "execution_count": 0,
   "metadata": {
    "application/vnd.databricks.v1+cell": {
     "cellMetadata": {
      "byteLimit": 2048000,
      "rowLimit": 10000
     },
     "inputWidgets": {},
     "nuid": "22bf9528-d0b6-4d54-b1a7-20943b8a58ff",
     "showTitle": false,
     "title": ""
    }
   },
   "outputs": [],
   "source": [
    "# plot learning curves\n",
    "learning_results = model.evals_result()\n",
    "\n",
    "fig, axs = plt.subplots(1, 2, figsize=(14, 6))\n",
    "axs[0].plot(learning_results['validation_0']['logloss'], label='Traning Logloss')\n",
    "axs[0].plot(learning_results['validation_1']['logloss'], label='Testing Logloss')\n",
    "\n",
    "axs[1].plot(learning_results['validation_0']['mae'], label='Training MAE')\n",
    "axs[1].plot(learning_results['validation_1']['mae'], label='Testing MAE')\n",
    "\n",
    "axs[0].set_xlabel(\"Iterations\")\n",
    "axs[1].set_xlabel(\"Iterations\")\n",
    "# show the legend\n",
    "axs[0].legend()\n",
    "axs[1].legend()\n",
    "# show the plot\n",
    "plt.show()"
   ]
  },
  {
   "cell_type": "code",
   "execution_count": 0,
   "metadata": {
    "application/vnd.databricks.v1+cell": {
     "cellMetadata": {},
     "inputWidgets": {},
     "nuid": "90af9172-5230-4d14-baf4-ece8fd75fa88",
     "showTitle": false,
     "title": ""
    }
   },
   "outputs": [],
   "source": []
  }
 ],
 "metadata": {
  "application/vnd.databricks.v1+notebook": {
   "dashboards": [],
   "language": "python",
   "notebookMetadata": {
    "pythonIndentUnit": 4
   },
   "notebookName": "compare_dummy",
   "widgets": {}
  },
  "kernelspec": {
   "display_name": ".laptop_price",
   "language": "python",
   "name": "python3"
  },
  "language_info": {
   "codemirror_mode": {
    "name": "ipython",
    "version": 3
   },
   "file_extension": ".py",
   "mimetype": "text/x-python",
   "name": "python",
   "nbconvert_exporter": "python",
   "pygments_lexer": "ipython3",
   "version": "3.9.7"
  },
  "orig_nbformat": 4
 },
 "nbformat": 4,
 "nbformat_minor": 0
}
