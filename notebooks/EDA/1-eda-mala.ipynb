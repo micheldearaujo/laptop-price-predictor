{
 "cells": [
  {
   "cell_type": "markdown",
   "metadata": {
    "application/vnd.databricks.v1+cell": {
     "cellMetadata": {
      "byteLimit": 2048000,
      "rowLimit": 10000
     },
     "inputWidgets": {},
     "nuid": "8cea3128-1787-4ecc-a3fa-dade4335bac8",
     "showTitle": false,
     "title": ""
    }
   },
   "source": [
    "## Exploratory Data Analysis on the Laptop Prices Dataset"
   ]
  },
  {
   "cell_type": "markdown",
   "metadata": {
    "application/vnd.databricks.v1+cell": {
     "cellMetadata": {
      "byteLimit": 2048000,
      "rowLimit": 10000
     },
     "inputWidgets": {},
     "nuid": "2e4a043f-fda4-4a36-9e2a-e17361af6e00",
     "showTitle": false,
     "title": ""
    }
   },
   "source": [
    "### 1.0 Importando as libs"
   ]
  },
  {
   "cell_type": "code",
   "execution_count": 0,
   "metadata": {
    "application/vnd.databricks.v1+cell": {
     "cellMetadata": {
      "byteLimit": 2048000,
      "rowLimit": 10000
     },
     "inputWidgets": {},
     "nuid": "b05d38a6-462e-4708-b600-d1097816e42e",
     "showTitle": false,
     "title": ""
    }
   },
   "outputs": [],
   "source": [
    "import sys\n",
    "import os\n",
    "\n",
    "import numpy as np\n",
    "import pandas as pd\n",
    "import seaborn as sns\n",
    "import matplotlib.pyplot as plt"
   ]
  },
  {
   "cell_type": "code",
   "execution_count": 0,
   "metadata": {
    "application/vnd.databricks.v1+cell": {
     "cellMetadata": {
      "byteLimit": 2048000,
      "rowLimit": 10000
     },
     "inputWidgets": {},
     "nuid": "8242caa9-dd39-4808-b126-fe90ac52f8b5",
     "showTitle": false,
     "title": ""
    }
   },
   "outputs": [],
   "source": [
    "df = spark.sql(\"select * from submission\")"
   ]
  },
  {
   "cell_type": "code",
   "execution_count": 0,
   "metadata": {
    "application/vnd.databricks.v1+cell": {
     "cellMetadata": {
      "byteLimit": 2048000,
      "rowLimit": 10000
     },
     "inputWidgets": {},
     "nuid": "237d2933-6686-43bc-ab94-cf9f52d58f7d",
     "showTitle": false,
     "title": ""
    }
   },
   "outputs": [],
   "source": [
    "df.display()"
   ]
  },
  {
   "cell_type": "markdown",
   "metadata": {
    "application/vnd.databricks.v1+cell": {
     "cellMetadata": {
      "byteLimit": 2048000,
      "rowLimit": 10000
     },
     "inputWidgets": {},
     "nuid": "cc7b50fb-d419-42c7-a074-8ecb940d8311",
     "showTitle": false,
     "title": ""
    }
   },
   "source": [
    "### 2.0 Carregar o dataset"
   ]
  },
  {
   "cell_type": "code",
   "execution_count": 0,
   "metadata": {
    "application/vnd.databricks.v1+cell": {
     "cellMetadata": {
      "byteLimit": 2048000,
      "rowLimit": 10000
     },
     "inputWidgets": {},
     "nuid": "b9fc567d-7bf5-4b17-8511-abde39604ecb",
     "showTitle": false,
     "title": ""
    }
   },
   "outputs": [],
   "source": [
    "prices_df = pd.read_csv(\"https://raw.githubusercontent.com/micheldearaujo/datasets/main/laptop_price/laptop_price.csv\", sep=',', encoding='latin1')\n",
    "\n",
    "prices_df.head()"
   ]
  },
  {
   "cell_type": "code",
   "execution_count": 0,
   "metadata": {
    "application/vnd.databricks.v1+cell": {
     "cellMetadata": {
      "byteLimit": 2048000,
      "rowLimit": 10000
     },
     "inputWidgets": {},
     "nuid": "4e7a1d4c-3f68-4bac-9626-a239c7547f89",
     "showTitle": false,
     "title": ""
    }
   },
   "outputs": [],
   "source": [
    "prices_df.shape"
   ]
  },
  {
   "cell_type": "code",
   "execution_count": 0,
   "metadata": {
    "application/vnd.databricks.v1+cell": {
     "cellMetadata": {
      "byteLimit": 2048000,
      "rowLimit": 10000
     },
     "inputWidgets": {},
     "nuid": "3fe22b6b-da5f-4eef-bfc9-a01e6a19eb8d",
     "showTitle": false,
     "title": ""
    }
   },
   "outputs": [],
   "source": [
    "prices_df.info()"
   ]
  },
  {
   "cell_type": "markdown",
   "metadata": {
    "application/vnd.databricks.v1+cell": {
     "cellMetadata": {
      "byteLimit": 2048000,
      "rowLimit": 10000
     },
     "inputWidgets": {},
     "nuid": "aa2649de-8a3a-48f5-90a0-ba98dd6800a7",
     "showTitle": false,
     "title": ""
    }
   },
   "source": [
    "### 3.0 Explorando os dados"
   ]
  },
  {
   "cell_type": "markdown",
   "metadata": {
    "application/vnd.databricks.v1+cell": {
     "cellMetadata": {
      "byteLimit": 2048000,
      "rowLimit": 10000
     },
     "inputWidgets": {},
     "nuid": "c95c10d4-eee1-4d6e-b017-238becb427f3",
     "showTitle": false,
     "title": ""
    }
   },
   "source": [
    "#### 3.1 Verificando os valores únicos de cada coluna\n",
    "Vamos começar entendendo como estão distribuídas nossas variáveis (numeros vs texto) para descobrir o Feature Engineering necessário"
   ]
  },
  {
   "cell_type": "code",
   "execution_count": 0,
   "metadata": {
    "application/vnd.databricks.v1+cell": {
     "cellMetadata": {
      "byteLimit": 2048000,
      "rowLimit": 10000
     },
     "inputWidgets": {},
     "nuid": "cb97f14b-449c-47cc-b9e1-945b2072ae17",
     "showTitle": false,
     "title": ""
    }
   },
   "outputs": [],
   "source": [
    "for column in prices_df.columns:\n",
    "    print(f\"Coluna: {column} | Valores únicos: {prices_df[column].nunique()}\")\n",
    "    print(prices_df[column].unique())\n",
    "    print(\"-\"*100)"
   ]
  },
  {
   "cell_type": "markdown",
   "metadata": {
    "application/vnd.databricks.v1+cell": {
     "cellMetadata": {
      "byteLimit": 2048000,
      "rowLimit": 10000
     },
     "inputWidgets": {},
     "nuid": "635cfb54-f79f-4680-9114-107c3bb54361",
     "showTitle": false,
     "title": ""
    }
   },
   "source": [
    "#### 3.2 Começamos dropand uma coluna que com certeza não vamos usar devido a alta cardinalidade: Nome do produto"
   ]
  },
  {
   "cell_type": "code",
   "execution_count": 0,
   "metadata": {
    "application/vnd.databricks.v1+cell": {
     "cellMetadata": {
      "byteLimit": 2048000,
      "rowLimit": 10000
     },
     "inputWidgets": {},
     "nuid": "f34a2b71-21ec-4bd7-9284-79391850cd0f",
     "showTitle": false,
     "title": ""
    }
   },
   "outputs": [],
   "source": [
    "prices_df = prices_df.drop(\"Product\", axis=1)"
   ]
  },
  {
   "cell_type": "markdown",
   "metadata": {
    "application/vnd.databricks.v1+cell": {
     "cellMetadata": {
      "byteLimit": 2048000,
      "rowLimit": 10000
     },
     "inputWidgets": {},
     "nuid": "0186455a-d52a-4468-93a0-0f77d45cb2ee",
     "showTitle": false,
     "title": ""
    }
   },
   "source": [
    "#### 3.3 Fazendo One Hot Encoding na coluna Company Name"
   ]
  },
  {
   "cell_type": "code",
   "execution_count": 0,
   "metadata": {
    "application/vnd.databricks.v1+cell": {
     "cellMetadata": {
      "byteLimit": 2048000,
      "rowLimit": 10000
     },
     "inputWidgets": {},
     "nuid": "317f322a-4814-4dae-aff0-f2c1b537b13f",
     "showTitle": false,
     "title": ""
    }
   },
   "outputs": [],
   "source": [
    "prices_df[\"Company\"].value_counts()"
   ]
  },
  {
   "cell_type": "code",
   "execution_count": 0,
   "metadata": {
    "application/vnd.databricks.v1+cell": {
     "cellMetadata": {
      "byteLimit": 2048000,
      "rowLimit": 10000
     },
     "inputWidgets": {},
     "nuid": "97d62b83-fe6f-4b83-b674-82cf3dafc925",
     "showTitle": false,
     "title": ""
    }
   },
   "outputs": [],
   "source": [
    "companies_to_agg = [\"Razer\",\n",
    "\"Mediacom\",\n",
    "\"Microsoft\",\n",
    "\"Xiaomi\",\n",
    "\"Vero\",\n",
    "\"Chuwi\",\n",
    "\"Google\",\n",
    "'Fujitsu',\n",
    "'LG',\n",
    "'Huawei']"
   ]
  },
  {
   "cell_type": "code",
   "execution_count": 0,
   "metadata": {
    "application/vnd.databricks.v1+cell": {
     "cellMetadata": {
      "byteLimit": 2048000,
      "rowLimit": 10000
     },
     "inputWidgets": {},
     "nuid": "05178061-2e2b-4752-8238-82fdd8e7edca",
     "showTitle": false,
     "title": ""
    }
   },
   "outputs": [],
   "source": [
    "prices_df[\"Company\"] = prices_df[\"Company\"].apply(lambda x: \"Other\" if x in companies_to_agg else x)"
   ]
  },
  {
   "cell_type": "code",
   "execution_count": 0,
   "metadata": {
    "application/vnd.databricks.v1+cell": {
     "cellMetadata": {
      "byteLimit": 2048000,
      "rowLimit": 10000
     },
     "inputWidgets": {},
     "nuid": "f6ec2538-6afa-4629-b371-5fb061a4f777",
     "showTitle": false,
     "title": ""
    }
   },
   "outputs": [],
   "source": [
    "# Screen Resolution - A resolução é sempre no final da string, então é fácil\n",
    "prices_df[\"ScreenResolution\"] = prices_df[\"ScreenResolution\"].str.split(\" \").apply(lambda x: x[-1])\n",
    "prices_df[\"ScreenWidth\"] =  prices_df[\"ScreenResolution\"].str.split(\"x\").apply(lambda x: x[0]).astype(\"int\")\n",
    "prices_df[\"ScreenHeight\"] =  prices_df[\"ScreenResolution\"].str.split(\"x\").apply(lambda x: x[1]).astype(\"int\")"
   ]
  },
  {
   "cell_type": "code",
   "execution_count": 0,
   "metadata": {
    "application/vnd.databricks.v1+cell": {
     "cellMetadata": {
      "byteLimit": 2048000,
      "rowLimit": 10000
     },
     "inputWidgets": {},
     "nuid": "027c878a-c45e-407a-a13d-71ee7490adda",
     "showTitle": false,
     "title": ""
    }
   },
   "outputs": [],
   "source": [
    "# CPU é mesma coisa, a frequencia do CPU é sempre a ultima e a marca é a primeira\n",
    "prices_df[\"CPU_BRAND\"] =  prices_df[\"Cpu\"].str.split(\" \").apply(lambda x: x[0])\n",
    "prices_df[\"CPU_FREQUENCY\"] =  prices_df[\"Cpu\"].str.split(\" \").apply(lambda x: x[-1])\n",
    "prices_df[\"CPU_FREQUENCY\"] =  prices_df[\"CPU_FREQUENCY\"].apply(lambda x: x[:-3]).astype(\"float\")"
   ]
  },
  {
   "cell_type": "code",
   "execution_count": 0,
   "metadata": {
    "application/vnd.databricks.v1+cell": {
     "cellMetadata": {
      "byteLimit": 2048000,
      "rowLimit": 10000
     },
     "inputWidgets": {},
     "nuid": "c230e684-e370-4295-911f-275eb76981e3",
     "showTitle": false,
     "title": ""
    }
   },
   "outputs": [],
   "source": [
    "# RAM\n",
    "prices_df[\"Ram\"] =  prices_df[\"Ram\"].apply(lambda x: x[:-2]).astype(\"int\")"
   ]
  },
  {
   "cell_type": "code",
   "execution_count": 0,
   "metadata": {
    "application/vnd.databricks.v1+cell": {
     "cellMetadata": {
      "byteLimit": 2048000,
      "rowLimit": 10000
     },
     "inputWidgets": {},
     "nuid": "802fc80a-77ba-4dc9-9afa-11dd57bd61d6",
     "showTitle": false,
     "title": ""
    }
   },
   "outputs": [],
   "source": [
    "def convert_to_gb(string):\n",
    "    number = float(string[:-2])\n",
    "\n",
    "    if \"TB\" in string:\n",
    "        number = number*1024\n",
    "    \n",
    "    return number"
   ]
  },
  {
   "cell_type": "code",
   "execution_count": 0,
   "metadata": {
    "application/vnd.databricks.v1+cell": {
     "cellMetadata": {
      "byteLimit": 2048000,
      "rowLimit": 10000
     },
     "inputWidgets": {},
     "nuid": "0e4d6a60-9c8b-4a14-9f02-fc0d9c9c3a25",
     "showTitle": false,
     "title": ""
    }
   },
   "outputs": [],
   "source": [
    "# Memory\n",
    "prices_df[\"Memory_Size\"] = prices_df[\"Memory\"].str.split(\" \").apply(lambda x: x[0])\n",
    "prices_df[\"Memory_Size\"] = prices_df[\"Memory_Size\"].apply(lambda x: convert_to_gb(x))\n",
    "prices_df[\"Memory_Type\"] = prices_df[\"Memory\"].str.split(\" \").apply(lambda x: x[1])"
   ]
  },
  {
   "cell_type": "code",
   "execution_count": 0,
   "metadata": {
    "application/vnd.databricks.v1+cell": {
     "cellMetadata": {
      "byteLimit": 2048000,
      "rowLimit": 10000
     },
     "inputWidgets": {},
     "nuid": "76e44d44-e09d-462e-bc42-9f1008c724af",
     "showTitle": false,
     "title": ""
    }
   },
   "outputs": [],
   "source": [
    "# Weight\n",
    "prices_df[\"Weight\"] = prices_df[\"Weight\"].apply(lambda x: x[:-2]).astype(\"float\")"
   ]
  },
  {
   "cell_type": "code",
   "execution_count": 0,
   "metadata": {
    "application/vnd.databricks.v1+cell": {
     "cellMetadata": {
      "byteLimit": 2048000,
      "rowLimit": 10000
     },
     "inputWidgets": {},
     "nuid": "735a0dcf-d150-406a-b992-7a5b3cc0ecdf",
     "showTitle": false,
     "title": ""
    }
   },
   "outputs": [],
   "source": [
    "# GPU\n",
    "prices_df[\"GPU_BRAND\"] = prices_df[\"Gpu\"].str.split(\" \").apply(lambda x: x[0])"
   ]
  },
  {
   "cell_type": "code",
   "execution_count": 0,
   "metadata": {
    "application/vnd.databricks.v1+cell": {
     "cellMetadata": {
      "byteLimit": 2048000,
      "rowLimit": 10000
     },
     "inputWidgets": {},
     "nuid": "dd36e3eb-d141-4947-9488-e718f4c55823",
     "showTitle": false,
     "title": ""
    }
   },
   "outputs": [],
   "source": [
    "# Get Dummies das variaveis categóricas finais\n",
    "prices_df = prices_df.join(pd.get_dummies(prices_df[\"Company\"], prefix=\"company\", dtype=\"int\"))\n",
    "prices_df = prices_df.join(pd.get_dummies(prices_df[\"TypeName\"], prefix=\"typeName\", dtype=\"int\"))\n",
    "prices_df = prices_df.join(pd.get_dummies(prices_df[\"CPU_BRAND\"], prefix=\"CPU_BRAND\", dtype=\"int\"))\n",
    "prices_df = prices_df.join(pd.get_dummies(prices_df[\"GPU_BRAND\"], prefix=\"GPU_BRAND\", dtype=\"int\"))\n",
    "prices_df = prices_df.join(pd.get_dummies(prices_df[\"OpSys\"], prefix=\"OpSys\", dtype=\"int\"))\n",
    "prices_df = prices_df.join(pd.get_dummies(prices_df[\"Memory_Type\"], prefix=\"Memory_Type\", dtype=\"int\"))"
   ]
  },
  {
   "cell_type": "code",
   "execution_count": 0,
   "metadata": {
    "application/vnd.databricks.v1+cell": {
     "cellMetadata": {
      "byteLimit": 2048000,
      "rowLimit": 10000
     },
     "inputWidgets": {},
     "nuid": "48be2500-d499-4413-89fc-4eaffc311321",
     "showTitle": false,
     "title": ""
    }
   },
   "outputs": [],
   "source": [
    "prices_df = prices_df.drop([\"Company\", \"TypeName\", \"ScreenResolution\", \"Cpu\", \"Memory\", \"Gpu\", \"OpSys\", \"GPU_BRAND\", \"Memory_Type\", \"CPU_BRAND\"], axis=1)"
   ]
  },
  {
   "cell_type": "code",
   "execution_count": 0,
   "metadata": {
    "application/vnd.databricks.v1+cell": {
     "cellMetadata": {
      "byteLimit": 2048000,
      "rowLimit": 10000
     },
     "inputWidgets": {},
     "nuid": "ab54bf04-3177-4990-9703-dd20e86a1fe7",
     "showTitle": false,
     "title": ""
    }
   },
   "outputs": [],
   "source": [
    "prices_df"
   ]
  }
 ],
 "metadata": {
  "application/vnd.databricks.v1+notebook": {
   "dashboards": [],
   "language": "python",
   "notebookMetadata": {
    "pythonIndentUnit": 4
   },
   "notebookName": "1-eda-mala",
   "widgets": {}
  },
  "kernelspec": {
   "display_name": ".laptop_price",
   "language": "python",
   "name": "python3"
  },
  "language_info": {
   "codemirror_mode": {
    "name": "ipython",
    "version": 3
   },
   "file_extension": ".py",
   "mimetype": "text/x-python",
   "name": "python",
   "nbconvert_exporter": "python",
   "pygments_lexer": "ipython3",
   "version": "3.9.7"
  },
  "orig_nbformat": 4
 },
 "nbformat": 4,
 "nbformat_minor": 0
}
